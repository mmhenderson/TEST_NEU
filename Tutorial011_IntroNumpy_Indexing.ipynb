{
 "cells": [
  {
   "cell_type": "markdown",
   "metadata": {},
   "source": [
    "# Indexing and slicing and iterating in NumPy"
   ]
  },
  {
   "cell_type": "code",
   "execution_count": 1,
   "metadata": {
    "collapsed": true
   },
   "outputs": [],
   "source": [
    "# import numpy\n",
    "import numpy as np"
   ]
  },
  {
   "cell_type": "code",
   "execution_count": 2,
   "metadata": {},
   "outputs": [
    {
     "name": "stdout",
     "output_type": "stream",
     "text": [
      "[ 100.  100.  100.]\n",
      "[   0.  100.    4.    6.]\n",
      "[   9.    8.    7.    6.    5.    4.  100.  100.  100.    0.]\n",
      "0.0\n",
      "300.0\n",
      "300.0\n",
      "300.0\n",
      "12.0\n",
      "15.0\n",
      "18.0\n",
      "21.0\n",
      "24.0\n",
      "27.0\n"
     ]
    }
   ],
   "source": [
    "# create a 1d array\n",
    "x = np.linspace(0,9,10)\n",
    "\n",
    "x[1]                     # just the second entry, remember 0 based indexing\n",
    "\n",
    "# specific start and stop points (exclusive)\n",
    "x[0:2]                   # the first and second entries in the array, so N>=0 and N<2 (note the < upper bound - not inclusive)\n",
    "\n",
    "# assign the 2nd - 4th element to 5 (index 1,2,3)\n",
    "x[1:4] = 100               \n",
    "print(x[1:4])\n",
    "\n",
    "# start, stop, step interval\n",
    "print(x[0:8:2])\n",
    "\n",
    "# reverse x\n",
    "print(x[::-1])\n",
    "\n",
    "# iterate over all elements in x\n",
    "for i in x:\n",
    "    print(i*3)    # then i takes the value of each element in x"
   ]
  },
  {
   "cell_type": "markdown",
   "metadata": {},
   "source": [
    "## multidimentional array indexing, slicing etc"
   ]
  },
  {
   "cell_type": "code",
   "execution_count": 6,
   "metadata": {},
   "outputs": [
    {
     "name": "stdout",
     "output_type": "stream",
     "text": [
      "[[  3.   6.   9.   9.   9.]\n",
      " [  6.   3.   0.   5.   4.]\n",
      " [  3.   2.   6.   6.   2.]\n",
      " [  6.   4.  10.   7.   8.]\n",
      " [  9.   4.   7.   1.   1.]\n",
      " [  5.   5.   1.   5.   0.]\n",
      " [  3.   8.   6.   3.   3.]\n",
      " [  7.   9.  10.   4.   2.]\n",
      " [  3.   2.   3.   3.   9.]\n",
      " [  1.   6.   3.   6.   5.]]\n",
      "last row:  [ 1.  6.  3.  6.  5.]\n",
      "last column:  [ 9.  4.  2.  8.  1.  0.  3.  2.  9.  5.]\n",
      "last entry:  5.0\n",
      "[ 3.  6.  9.  9.  9.]\n",
      "[ 6.  3.  0.  5.  4.]\n",
      "[ 3.  2.  6.  6.  2.]\n",
      "[  6.   4.  10.   7.   8.]\n",
      "[ 9.  4.  7.  1.  1.]\n",
      "[ 5.  5.  1.  5.  0.]\n",
      "[ 3.  8.  6.  3.  3.]\n",
      "[  7.   9.  10.   4.   2.]\n",
      "[ 3.  2.  3.  3.  9.]\n",
      "[ 1.  6.  3.  6.  5.]\n",
      "3.0 6.0 9.0 9.0 9.0 6.0 3.0 0.0 5.0 4.0 3.0 2.0 6.0 6.0 2.0 6.0 4.0 10.0 7.0 8.0 9.0 4.0 7.0 1.0 1.0 5.0 5.0 1.0 5.0 0.0 3.0 8.0 6.0 3.0 3.0 7.0 9.0 10.0 4.0 2.0 3.0 2.0 3.0 3.0 9.0 1.0 6.0 3.0 6.0 5.0 "
     ]
    }
   ],
   "source": [
    "x = np.round(np.random.rand(10,5)*10)   # generate a matrix of uniformly distributed random numbers over 0:10\n",
    "print(x)\n",
    "\n",
    "x[0,0]     # first row, first column\n",
    "x[2,3]     # third row, 4th column\n",
    "\n",
    "x[:, 3]    # all entries in the 4th column \n",
    "x[3, :]    # all entries in the 4th row\n",
    "x[0:2, 4]  # first two entries of the 5th column\n",
    "x[6, 2:4]  # 7th row, 3rd and 4th entries. \n",
    "\n",
    "x[6]       # if not all dims specified then missing values are considered complete slices\n",
    "x[6,]      # these three ways of writing all do the same thing...\n",
    "x[6,:]\n",
    "\n",
    "# trick\n",
    "print('last row: ', x[-1,:])     # last row\n",
    "print('last column: ', x[:,-1])  # last column\n",
    "print('last entry: ', x[-1,-1])  # last value\n",
    "\n",
    "# iterating goes over the first dim (rows)\n",
    "for r in x:\n",
    "     print(r)\n",
    "        \n",
    "# can also iterate over all entries in the array using 'flat'\n",
    "# will proceed along 1st row, then to 2nd row, etc. \n",
    "for a in x.flat:\n",
    "    print(a,end=' ')"
   ]
  },
  {
   "cell_type": "markdown",
   "metadata": {},
   "source": [
    "## pull out subset of rows and columns"
   ]
  },
  {
   "cell_type": "code",
   "execution_count": 7,
   "metadata": {},
   "outputs": [
    {
     "name": "stdout",
     "output_type": "stream",
     "text": [
      "[[ 0.70082374  0.01064899  0.02062295]\n",
      " [ 0.81786869  0.25950106  0.07827977]\n",
      " [ 0.30824358  0.20858188  0.47875572]\n",
      " [ 0.40931346  0.9388113   0.84343883]]\n",
      "\n",
      " [[ 0.70082374  0.01064899  0.02062295]\n",
      " [ 0.81786869  0.25950106  0.07827977]]\n",
      "\n",
      " [[ 0.30824358  0.20858188  0.47875572]\n",
      " [ 0.40931346  0.9388113   0.84343883]]\n",
      "\n",
      " [ 0.70082374  0.81786869]\n",
      "\n",
      " [[ 0.20858188  0.47875572]\n",
      " [ 0.9388113   0.84343883]]\n"
     ]
    }
   ],
   "source": [
    "# generate a matrix of random numbers over 0-1\n",
    "x = np.random.rand(4,3) \n",
    "print(x)\n",
    "\n",
    "# first two rows - note that you don't have to specify the 2nd dim - and note that \n",
    "# '2' here means rows 0 and 1 (not 0 through 2!)\n",
    "y = x[:2] \n",
    "print('\\n', y)\n",
    "\n",
    "# can also take the last two rows...in the same manner...in this case rows 3 and 4\n",
    "y = x[2:] \n",
    "print('\\n', y)\n",
    "\n",
    "# first two rows, 1st column\n",
    "y = x[:2,0] \n",
    "print('\\n', y)\n",
    "\n",
    "# last two rows, last 2 columns (i.e. from column 2 - end)\n",
    "y = x[2:,1:]\n",
    "print('\\n', y)"
   ]
  },
  {
   "cell_type": "markdown",
   "metadata": {},
   "source": [
    "<div class=\"alert alert-info\">\n",
    "important - slicing an array creates a view of it! if you change the view, you also will change the original data!\n",
    "</div>"
   ]
  },
  {
   "cell_type": "code",
   "execution_count": 13,
   "metadata": {},
   "outputs": [
    {
     "name": "stdout",
     "output_type": "stream",
     "text": [
      "(2, 3)\n",
      "[[ 100.  100.  100.]\n",
      " [ 100.  100.  100.]\n",
      " [ 100.  100.  100.]\n",
      " [ 100.  100.  100.]]\n"
     ]
    }
   ],
   "source": [
    "z = x[:2,]\n",
    "print(z.shape)\n",
    "\n",
    "z[:]=100     # so if you change data in z it will also change in x\n",
    "\n",
    "print(x)"
   ]
  },
  {
   "cell_type": "markdown",
   "metadata": {},
   "source": [
    "## Fancy indexing...using arrays to index arrays - used all the time in data analysis..."
   ]
  },
  {
   "cell_type": "markdown",
   "metadata": {},
   "source": [
    "<div class=\"alert alert-info\">\n",
    "fancy indexing always makes a COPY of the data (unlike slicing which creates a view)!!!\n",
    "</div>"
   ]
  },
  {
   "cell_type": "code",
   "execution_count": 14,
   "metadata": {},
   "outputs": [
    {
     "name": "stdout",
     "output_type": "stream",
     "text": [
      "[[ 0.84383997  0.41700925  0.28863538  0.52646956]\n",
      " [ 0.91219572  0.08924574  0.18205183  0.29823305]\n",
      " [ 0.03647543  0.09029493  0.14901326  0.43216867]]\n",
      "\n",
      " x indexed at tuple y:  0.432168666868\n"
     ]
    }
   ],
   "source": [
    "# define an array\n",
    "x = np.random.rand(3,4)\n",
    "\n",
    "# index array - can be a tuple\n",
    "y = (2,3)\n",
    "\n",
    "# index\n",
    "print(x)\n",
    "print('\\n x indexed at tuple y: ', x[y])"
   ]
  },
  {
   "cell_type": "code",
   "execution_count": 19,
   "metadata": {},
   "outputs": [
    {
     "name": "stdout",
     "output_type": "stream",
     "text": [
      "[[ 0.84383997  0.41700925  0.28863538  0.52646956]\n",
      " [ 0.91219572  0.08924574  0.18205183  0.29823305]\n",
      " [ 0.03647543  0.09029493  0.14901326  0.43216867]]\n"
     ]
    },
    {
     "data": {
      "text/plain": [
       "array([[ 0.03647543,  0.09029493,  0.14901326,  0.43216867],\n",
       "       [ 0.91219572,  0.08924574,  0.18205183,  0.29823305],\n",
       "       [ 0.84383997,  0.41700925,  0.28863538,  0.52646956]])"
      ]
     },
     "execution_count": 19,
     "metadata": {},
     "output_type": "execute_result"
    }
   ],
   "source": [
    "# can use fancy indexing to extract elements in a particular order\n",
    "print(x)\n",
    "\n",
    "# this will extract the 3rd row, then the 2nd row, then the first row\n",
    "x[[2,1,0]]\n",
    "x[::-1]\n",
    "\n",
    "# this will extract all columns from the 3rd row, then the 1st row, then the 2nd row\n",
    "# x[[2,0,1]]\n",
    "\n",
    "# and this will extract all rows from the 2nd, 3rd and then 1st column. \n",
    "# x[:,[1,2,0]]"
   ]
  },
  {
   "cell_type": "code",
   "execution_count": 20,
   "metadata": {},
   "outputs": [
    {
     "name": "stdout",
     "output_type": "stream",
     "text": [
      "[[ 0.84383997  0.41700925  0.28863538  0.52646956]\n",
      " [ 0.91219572  0.08924574  0.18205183  0.29823305]\n",
      " [ 0.03647543  0.09029493  0.14901326  0.43216867]]\n"
     ]
    },
    {
     "data": {
      "text/plain": [
       "array([ 0.08924574,  0.14901326])"
      ]
     },
     "execution_count": 20,
     "metadata": {},
     "output_type": "execute_result"
    }
   ],
   "source": [
    "# or can pass in multiple arrays...will return a 1D array \n",
    "# corresponding to each set of tuples (1,1) and (2,2) in this case\n",
    "print(x)\n",
    "x[[1,2],[1,2]]"
   ]
  },
  {
   "cell_type": "markdown",
   "metadata": {},
   "source": [
    "<div class=\"alert alert-info\">\n",
    "As opposed to selecting a set of tuples, you can also select a block of indices from a matrix. \n",
    "</div>"
   ]
  },
  {
   "cell_type": "code",
   "execution_count": 26,
   "metadata": {},
   "outputs": [
    {
     "name": "stdout",
     "output_type": "stream",
     "text": [
      "[[ 0.84383997  0.41700925  0.28863538  0.52646956]\n",
      " [ 0.91219572  0.08924574  0.18205183  0.29823305]\n",
      " [ 0.03647543  0.09029493  0.14901326  0.43216867]] \n",
      "\n",
      "[[ 0.28863538  0.52646956]\n",
      " [ 0.18205183  0.29823305]]\n"
     ]
    },
    {
     "ename": "TypeError",
     "evalue": "list indices must be integers or slices, not tuple",
     "output_type": "error",
     "traceback": [
      "\u001b[0;31m---------------------------------------------------------------------------\u001b[0m",
      "\u001b[0;31mTypeError\u001b[0m                                 Traceback (most recent call last)",
      "\u001b[0;32m<ipython-input-26-c1e640aa0de8>\u001b[0m in \u001b[0;36m<module>\u001b[0;34m()\u001b[0m\n\u001b[1;32m      4\u001b[0m \u001b[0;34m\u001b[0m\u001b[0m\n\u001b[1;32m      5\u001b[0m \u001b[0mprint\u001b[0m\u001b[0;34m(\u001b[0m\u001b[0mx\u001b[0m\u001b[0;34m[\u001b[0m\u001b[0;34m:\u001b[0m\u001b[0;36m2\u001b[0m\u001b[0;34m,\u001b[0m\u001b[0;36m2\u001b[0m\u001b[0;34m:\u001b[0m\u001b[0;36m4\u001b[0m\u001b[0;34m]\u001b[0m\u001b[0;34m)\u001b[0m\u001b[0;34m\u001b[0m\u001b[0m\n\u001b[0;32m----> 6\u001b[0;31m \u001b[0mprint\u001b[0m\u001b[0;34m(\u001b[0m\u001b[0mx\u001b[0m\u001b[0;34m[\u001b[0m\u001b[0;34m[\u001b[0m\u001b[0;36m1\u001b[0m\u001b[0;34m,\u001b[0m\u001b[0;36m2\u001b[0m\u001b[0;34m]\u001b[0m\u001b[0;34m[\u001b[0m\u001b[0;34m:\u001b[0m\u001b[0;34m,\u001b[0m\u001b[0;34m[\u001b[0m\u001b[0;36m2\u001b[0m\u001b[0;34m,\u001b[0m\u001b[0;36m3\u001b[0m\u001b[0;34m]\u001b[0m\u001b[0;34m]\u001b[0m\u001b[0;34m]\u001b[0m\u001b[0;34m)\u001b[0m\u001b[0;34m\u001b[0m\u001b[0m\n\u001b[0m",
      "\u001b[0;31mTypeError\u001b[0m: list indices must be integers or slices, not tuple"
     ]
    }
   ],
   "source": [
    "# grab the lower right chunk of data. \n",
    "print(x,'\\n')\n",
    "# print(x[[1,2]][:,[2,3]])\n",
    "\n",
    "print(x[:2,2:4])\n",
    "# print(x[[1,2][:,[2,3]]])"
   ]
  },
  {
   "cell_type": "code",
   "execution_count": null,
   "metadata": {
    "collapsed": true
   },
   "outputs": [],
   "source": []
  }
 ],
 "metadata": {
  "kernelspec": {
   "display_name": "Python 3",
   "language": "python",
   "name": "python3"
  },
  "language_info": {
   "codemirror_mode": {
    "name": "ipython",
    "version": 3
   },
   "file_extension": ".py",
   "mimetype": "text/x-python",
   "name": "python",
   "nbconvert_exporter": "python",
   "pygments_lexer": "ipython3",
   "version": "3.6.3"
  }
 },
 "nbformat": 4,
 "nbformat_minor": 2
}
